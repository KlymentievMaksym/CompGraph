{
 "cells": [
  {
   "cell_type": "code",
   "execution_count": 3,
   "metadata": {},
   "outputs": [],
   "source": [
    "from PIL import Image as Im\n",
    "import numpy as np"
   ]
  },
  {
   "cell_type": "code",
   "execution_count": 7,
   "metadata": {},
   "outputs": [],
   "source": [
    "wm = Im.open(\"lab6/WM.png\")\n",
    "img = Im.open(\"lab6/InputImage.png\")\n",
    "m1, n1 = img.size\n",
    "img_g = Im.Image.convert(img, \"L\")\n",
    "wm_g = Im.Image.convert(wm, \"L\")\n",
    "m2, n2 = wm.size\n",
    "m = min(m1, m2)\n",
    "n = min(n1, n2)\n",
    "wm_array = np.array(wm_g, dtype=np.double)\n",
    "wm_array = wm_array - np.min(wm_array) / 255\n",
    "img.show()"
   ]
  }
 ],
 "metadata": {
  "kernelspec": {
   "display_name": "Python 3",
   "language": "python",
   "name": "python3"
  },
  "language_info": {
   "codemirror_mode": {
    "name": "ipython",
    "version": 3
   },
   "file_extension": ".py",
   "mimetype": "text/x-python",
   "name": "python",
   "nbconvert_exporter": "python",
   "pygments_lexer": "ipython3",
   "version": "3.12.3"
  }
 },
 "nbformat": 4,
 "nbformat_minor": 2
}
